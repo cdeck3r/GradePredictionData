{
 "cells": [
  {
   "cell_type": "markdown",
   "id": "514323cf-a14b-4e78-8f0d-e79db135d6be",
   "metadata": {},
   "source": [
    "# Data Anonymizer\n",
    "\n",
    "This notebook anonymizes the log files. It processes grades to associated them to the log files."
   ]
  },
  {
   "cell_type": "markdown",
   "id": "48164733-a4eb-4a65-b641-f7f5d134065a",
   "metadata": {},
   "source": [
    "### Imports"
   ]
  },
  {
   "cell_type": "code",
   "execution_count": 1,
   "id": "beba1331-7834-4a7a-a88b-debe7218694a",
   "metadata": {},
   "outputs": [],
   "source": [
    "import os\n",
    "import pandas as pd\n",
    "import random"
   ]
  },
  {
   "cell_type": "markdown",
   "id": "ae8bad38-7da0-4da7-af62-85411f335dec",
   "metadata": {},
   "source": [
    "### File and Config Variables\n",
    "\n",
    "We define all input and output filenames as well as other parameters."
   ]
  },
  {
   "cell_type": "code",
   "execution_count": 2,
   "id": "126db191-4709-436f-8339-3afadd4e8271",
   "metadata": {},
   "outputs": [],
   "source": [
    "# name of the module where the logfile originates from\n",
    "#   RT - Reutlingen\n",
    "#   WIB - Wirtschaftsinformatik Bachelor\n",
    "#   Stat| Net | SE - Statistik | Computernetzwerke | Software Engineering\n",
    "#   W22 | SS23 - Winter term, summer term and year\n",
    "subject = 'RTWIBNet_W22'\n",
    "\n",
    "# input filepaths\n",
    "input_filepath = '/GradePredictionData/data'\n",
    "output_filepath = '/GradePredictionData/data-registry'\n",
    "\n",
    "# other Params\n",
    "HSRT_IP_start = '134.103'"
   ]
  },
  {
   "cell_type": "code",
   "execution_count": 3,
   "id": "a49f7f31-8f60-4e01-910c-c1ac86934f48",
   "metadata": {},
   "outputs": [],
   "source": [
    "# input files\n",
    "log_filepath = os.path.join(input_filepath, subject + '_log.csv')\n",
    "grade_filepath = os.path.join(input_filepath, subject + '_grades.csv')\n",
    "\n",
    "# lookup tables for names and ips; serve as input and get updated, if necessary\n",
    "lookup_names_filepath = os.path.join(input_filepath, subject+'_names.csv')\n",
    "lookup_ips_filepath = os.path.join(input_filepath, subject+'_ips.csv')\n",
    "\n",
    "# anonymized files\n",
    "logfile_output = os.path.join(output_filepath, subject, subject+'_log.csv')\n",
    "grades_output = os.path.join(output_filepath, subject, subject+'_grades.csv')"
   ]
  },
  {
   "cell_type": "markdown",
   "id": "d98822b6-e17f-4a4c-ab09-da5f29c03e12",
   "metadata": {},
   "source": [
    "### Load raw data\n",
    "\n",
    "We load the raw data from `.csv` files into dataframes and assert required columns."
   ]
  },
  {
   "cell_type": "code",
   "execution_count": 4,
   "id": "13436cc2-74b5-44db-a160-ad333253cb20",
   "metadata": {},
   "outputs": [],
   "source": [
    "# load logfile, if missing, notebook will stop here\n",
    "logfile = pd.read_csv(log_filepath, sep=',')\n",
    "required_columns = ['Vollständiger Name', 'Betroffene/r Nutzer/in', 'IP-Adresse']\n",
    "assert all([c for c in required_columns if c in list(logfile.columns)])\n",
    "assert len(logfile) > 0"
   ]
  },
  {
   "cell_type": "code",
   "execution_count": 5,
   "id": "e3041647-292c-4c3f-aa6b-b98564f4c9cc",
   "metadata": {},
   "outputs": [],
   "source": [
    "# load grades if exists, otherwise create empty dataframe\n",
    "required_columns = ['nachname', 'vorname', 'bewertung']\n",
    "try:\n",
    "    grades = pd.read_csv(grade_filepath, sep=';')\n",
    "except:\n",
    "    grades = pd.DataFrame(data=[], columns=required_columns)\n",
    "assert all([c for c in required_columns if c in list(grades.columns)])"
   ]
  },
  {
   "cell_type": "code",
   "execution_count": 6,
   "id": "6581a7fb-7140-45ba-bf0d-e395048424f2",
   "metadata": {},
   "outputs": [],
   "source": [
    "# load lookup tables for names and ips, if they exist\n",
    "## all_names\n",
    "required_columns = ['Vollständiger Name', 'name_code']\n",
    "try:\n",
    "    all_names = pd.read_csv(lookup_names_filepath, sep=',')\n",
    "except:\n",
    "    all_names = pd.DataFrame(data=[], columns=required_columns)\n",
    "assert all([c for c in required_columns if c in list(all_names.columns)])\n",
    "\n",
    "## all_ips\n",
    "required_columns = ['IP-Adresse', 'ip_code']\n",
    "try:\n",
    "    all_ips = pd.read_csv(lookup_ips_filepath, sep=',')\n",
    "except:\n",
    "    all_ips = pd.DataFrame(data=[], columns=required_columns)\n",
    "assert all([c for c in required_columns if c in list(all_ips.columns)])"
   ]
  },
  {
   "cell_type": "code",
   "execution_count": 7,
   "id": "f1c66cf3-4ef7-40e4-a500-bf55a3e3f791",
   "metadata": {},
   "outputs": [],
   "source": [
    "# for assertion after en-coding of names and IPs\n",
    "input_all_names_length = len(all_names)\n",
    "input_all_ips_length = len(all_ips)"
   ]
  },
  {
   "cell_type": "markdown",
   "id": "5189de82-2c99-46a0-ac29-a0fc40ebc70f",
   "metadata": {},
   "source": [
    "### Some Filtering"
   ]
  },
  {
   "cell_type": "code",
   "execution_count": 8,
   "id": "1fe789e7-a4f9-4063-b489-2b88e42197c4",
   "metadata": {},
   "outputs": [],
   "source": [
    "# remove myself from logfile\n",
    "logfile.drop(logfile[logfile['Vollständiger Name'] == 'Christian Decker'].index, inplace=True)\n",
    "logfile.dropna(axis=0, how='any', inplace=True)"
   ]
  },
  {
   "cell_type": "code",
   "execution_count": 9,
   "id": "2681106f-39c8-4909-a044-d5129a7b41f8",
   "metadata": {},
   "outputs": [],
   "source": [
    "# Build complete name\n",
    "grades['Vollständiger Name']= grades['vorname'] + ' ' + grades['nachname']"
   ]
  },
  {
   "cell_type": "markdown",
   "id": "744ed633-fd6e-48f1-aa4c-351bda6c0f86",
   "metadata": {},
   "source": [
    "### Create Name Codes\n",
    "\n",
    "Name code is a 4digit hex corresponding to the index in a dataframe of names. The names are shuffled beforehand to avoid information leak by sorted names. It creates an `all_names` dataframe with corresponding name / code entries, one per row. If `all_names` already exists, it will be updated by new names from the logfile or grade file."
   ]
  },
  {
   "cell_type": "code",
   "execution_count": 10,
   "id": "cbf725be-9545-47a1-9295-cf3c884891f6",
   "metadata": {},
   "outputs": [],
   "source": [
    "# extract all names from logfile\n",
    "logfile_names = set(list(logfile['Vollständiger Name']))\n",
    "logfile_names = logfile_names.union(set(list(logfile['Betroffene/r Nutzer/in'])))\n",
    "# extract all names from grades\n",
    "grades_names = set(list(grades['Vollständiger Name']))\n",
    "# combine both\n",
    "name_list = list(logfile_names.union(grades_names))"
   ]
  },
  {
   "cell_type": "code",
   "execution_count": 11,
   "id": "e0d9f4f1-ab63-4613-aea3-a358d1cbde10",
   "metadata": {},
   "outputs": [],
   "source": [
    "# new_names_list contains new names, which are so far not part of names_list\n",
    "# if name from names_list is not in all_names, it becomes part of new_names_list\n",
    "new_names_list = [name for name in name_list if not (all_names['Vollständiger Name'].eq(name)).any()]"
   ]
  },
  {
   "cell_type": "code",
   "execution_count": 12,
   "id": "1b230d24-5ca1-41aa-9f10-06130b74abed",
   "metadata": {},
   "outputs": [],
   "source": [
    "# shuffle to avoid lexigographic order\n",
    "random.shuffle(new_names_list)\n",
    "# create data frame with index continuing the all_names index (works with empty new_names_list, too)\n",
    "start_idx = len(all_names)\n",
    "end_idx = len(all_names) + len(new_names_list)\n",
    "idx = list(range(start_idx, end_idx))\n",
    "new_names = pd.DataFrame(new_names_list, index=idx, columns=['Vollständiger Name'])\n",
    "# update all_names dataframe with new_names\n",
    "all_names = pd.concat([all_names, new_names], axis='index')"
   ]
  },
  {
   "cell_type": "code",
   "execution_count": 13,
   "id": "2054ce57-66a9-4613-93e6-9485afe61965",
   "metadata": {},
   "outputs": [],
   "source": [
    "# replace name by index in 4digit hex\n",
    "all_names['name_code'] = all_names.apply(lambda row : f'{row.name:0>4X}' , axis=1)\n",
    "# all_names must not decrease \n",
    "assert len(all_names) >= input_all_names_length"
   ]
  },
  {
   "cell_type": "markdown",
   "id": "2d519de1-6603-417d-98ca-174def099023",
   "metadata": {},
   "source": [
    "### Create IP Address Codes\n",
    "\n",
    "Address code is a 4digit hex corresponding to the index in a dataframe of IP addresses, see `def ip_code(..)` for further details. The IPs are shuffled beforehand to avoid information leak by sorted IPs. It creates an `all_ips` dataframe with corresponding IP / code entries, one per row. If `all_ips` already exists, it will be updated by new IPs from the logfile."
   ]
  },
  {
   "cell_type": "code",
   "execution_count": 14,
   "id": "dd87bf00-6e4d-4cd0-96b6-a848fdb8fdaa",
   "metadata": {},
   "outputs": [],
   "source": [
    "# extract all IPs from logfile\n",
    "ip_list = list(set(list(logfile['IP-Adresse'])))"
   ]
  },
  {
   "cell_type": "code",
   "execution_count": 15,
   "id": "0e83505f-a920-48da-8f42-d8456ac02f41",
   "metadata": {},
   "outputs": [],
   "source": [
    "# new_ip_list contains ips, which are not part existing all_ips\n",
    "new_ip_list = [ip for ip in ip_list if not (all_ips['IP-Adresse'].eq(ip)).any()]"
   ]
  },
  {
   "cell_type": "code",
   "execution_count": 16,
   "id": "1dcd5fdd-7b1e-4c78-a421-1a331dacd3d7",
   "metadata": {},
   "outputs": [],
   "source": [
    "# shuffle and add to all_ips dataframe\n",
    "random.shuffle(new_ip_list)\n",
    "# create data frame with index continuing the all_ips index (works with empty new_ip_list, too)\n",
    "start_idx = len(all_ips)\n",
    "end_idx = len(all_ips) + len(new_ip_list)\n",
    "idx = list(range(start_idx, end_idx))\n",
    "new_ips = pd.DataFrame(new_ip_list, index=idx, columns=['IP-Adresse'])\n",
    "# update all_names dataframe with new_names\n",
    "all_ips = pd.concat([all_ips, new_ips], axis='index')"
   ]
  },
  {
   "cell_type": "code",
   "execution_count": 17,
   "id": "5f59c7f3-4b27-4d79-9f98-63501f855109",
   "metadata": {},
   "outputs": [],
   "source": [
    "# returns 134.13.0.0 if IP originates from HSRT_IP_start\n",
    "# or 4digit hex corresponding to a given index \n",
    "def ip_code(ip, idx):\n",
    "    if ip.startswith(HSRT_IP_start):\n",
    "        return HSRT_IP_start + '.0.0'\n",
    "    else:\n",
    "        return f'{idx:0>4X}'"
   ]
  },
  {
   "cell_type": "code",
   "execution_count": 18,
   "id": "93bef408-771d-40d0-824d-c17c19685190",
   "metadata": {},
   "outputs": [],
   "source": [
    "# replace name by index in 4digit hex\n",
    "all_ips['ip_code'] = all_ips.apply(lambda row : ip_code(str(row['IP-Adresse']), row.name) , axis=1)\n",
    "# all_ips must not decrease\n",
    "assert len(all_ips) >= input_all_ips_length"
   ]
  },
  {
   "cell_type": "markdown",
   "id": "084fc792-409c-4d83-8911-35045df83938",
   "metadata": {},
   "source": [
    "### Anonymize Names and IPs"
   ]
  },
  {
   "cell_type": "code",
   "execution_count": 19,
   "id": "9c17a94d-e6df-4196-b58d-01b57f99f74c",
   "metadata": {},
   "outputs": [],
   "source": [
    "# Lookup functions: provide name or IP and retrieve anonymized code\n",
    "def anon_name(name):\n",
    "    code = all_names[all_names['Vollständiger Name'] == name]['name_code']\n",
    "    return code.iloc[0]\n",
    "\n",
    "def anon_ip(ip):\n",
    "    code = all_ips[all_ips['IP-Adresse'] == ip]['ip_code']\n",
    "    return code.iloc[0]"
   ]
  },
  {
   "cell_type": "code",
   "execution_count": 20,
   "id": "3fa0cb88-48d6-46bc-8648-650789928f39",
   "metadata": {},
   "outputs": [],
   "source": [
    "# anonymize logfile\n",
    "logfile['Vollständiger Name'] = logfile.apply(lambda row : anon_name(row['Vollständiger Name']) , axis = 1)\n",
    "logfile['Betroffene/r Nutzer/in'] = logfile.apply(lambda row : anon_name(row['Betroffene/r Nutzer/in']) , axis = 1)\n",
    "logfile['IP-Adresse'] = logfile.apply(lambda row : anon_ip(str(row['IP-Adresse'])) , axis = 1)"
   ]
  },
  {
   "cell_type": "code",
   "execution_count": 21,
   "id": "f04c0508-ba7d-4eac-aa8e-1d11f298cbd2",
   "metadata": {},
   "outputs": [],
   "source": [
    "# anonymize grades\n",
    "if len(grades) > 0: # we have grades\n",
    "    grades['Vollständiger Name'] = grades.apply(lambda row : anon_name(row['Vollständiger Name']) , axis=1)\n",
    "grades = grades[['Vollständiger Name', 'bewertung']]"
   ]
  },
  {
   "cell_type": "markdown",
   "id": "f66dbca3-ac87-4a6a-94ef-560e21959f83",
   "metadata": {},
   "source": [
    "### Store Anonymized Data as `.csv` File"
   ]
  },
  {
   "cell_type": "code",
   "execution_count": 22,
   "id": "d930ef84-a815-4462-b13f-70cb06dfd4e7",
   "metadata": {},
   "outputs": [],
   "source": [
    "# create directory, if not exists\n",
    "data_reg_dir = os.path.dirname(logfile_output)\n",
    "!mkdir -p {data_reg_dir}"
   ]
  },
  {
   "cell_type": "code",
   "execution_count": 23,
   "id": "a7dce9dc-21e8-4209-82e8-f21948eeaa14",
   "metadata": {},
   "outputs": [],
   "source": [
    "logfile.to_csv(logfile_output, sep=',', index=False)\n",
    "grades.to_csv(grades_output, sep=',', index=False)"
   ]
  },
  {
   "cell_type": "markdown",
   "id": "cda51b9e-d6bd-4c58-8b75-dfba3cd124e8",
   "metadata": {},
   "source": [
    "### Store Lookup Tables for Names and IPs\n",
    "\n",
    "This is useful for later use, when we want to keep the lookup tables while getting updated data."
   ]
  },
  {
   "cell_type": "code",
   "execution_count": 24,
   "id": "3cf3aea1-4a0b-46ff-9ed6-13abf4c8c77b",
   "metadata": {},
   "outputs": [],
   "source": [
    "all_names.to_csv(lookup_names_filepath, sep=',', index=False)\n",
    "all_ips.to_csv(lookup_ips_filepath, sep=',', index=False)"
   ]
  },
  {
   "cell_type": "code",
   "execution_count": null,
   "id": "518b5a69-1777-4e1e-b3c3-e2d76c291feb",
   "metadata": {},
   "outputs": [],
   "source": []
  }
 ],
 "metadata": {
  "kernelspec": {
   "display_name": "Python 3 (ipykernel)",
   "language": "python",
   "name": "python3"
  },
  "language_info": {
   "codemirror_mode": {
    "name": "ipython",
    "version": 3
   },
   "file_extension": ".py",
   "mimetype": "text/x-python",
   "name": "python",
   "nbconvert_exporter": "python",
   "pygments_lexer": "ipython3",
   "version": "3.11.3"
  }
 },
 "nbformat": 4,
 "nbformat_minor": 5
}
