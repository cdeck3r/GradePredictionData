{
 "cells": [
  {
   "cell_type": "markdown",
   "id": "514323cf-a14b-4e78-8f0d-e79db135d6be",
   "metadata": {},
   "source": [
    "# Data Anonymizer\n",
    "\n",
    "This notebook anonymizes the log files. It processes grades to associated them to the log files."
   ]
  },
  {
   "cell_type": "markdown",
   "id": "48164733-a4eb-4a65-b641-f7f5d134065a",
   "metadata": {},
   "source": [
    "### Imports"
   ]
  },
  {
   "cell_type": "code",
   "execution_count": 1,
   "id": "beba1331-7834-4a7a-a88b-debe7218694a",
   "metadata": {},
   "outputs": [],
   "source": [
    "import os\n",
    "import pandas as pd\n",
    "import random"
   ]
  },
  {
   "cell_type": "markdown",
   "id": "d98822b6-e17f-4a4c-ab09-da5f29c03e12",
   "metadata": {},
   "source": [
    "### Load raw data\n",
    "\n",
    "We load the raw data from `.csv` files. "
   ]
  },
  {
   "cell_type": "code",
   "execution_count": 2,
   "id": "126db191-4709-436f-8339-3afadd4e8271",
   "metadata": {},
   "outputs": [],
   "source": [
    "subject = 'RTWIBNet_W22'\n",
    "input_filepath = '/GradePredictionData/data'\n",
    "output_filepath = '/GradePredictionData/data-registry'\n",
    "\n",
    "# other Params\n",
    "HSRT_IP_start = '134.103'"
   ]
  },
  {
   "cell_type": "code",
   "execution_count": 3,
   "id": "a49f7f31-8f60-4e01-910c-c1ac86934f48",
   "metadata": {},
   "outputs": [],
   "source": [
    "log_filepath = os.path.join(input_filepath, subject + '_log.csv')\n",
    "grade_filepath = os.path.join(input_filepath, subject + '_grades.csv')"
   ]
  },
  {
   "cell_type": "code",
   "execution_count": 4,
   "id": "13436cc2-74b5-44db-a160-ad333253cb20",
   "metadata": {},
   "outputs": [],
   "source": [
    "logfile = pd.read_csv(log_filepath, sep=',')\n",
    "grades = pd.read_csv(grade_filepath, sep=';')"
   ]
  },
  {
   "cell_type": "markdown",
   "id": "5189de82-2c99-46a0-ac29-a0fc40ebc70f",
   "metadata": {},
   "source": [
    "### Some Filtering"
   ]
  },
  {
   "cell_type": "code",
   "execution_count": 5,
   "id": "1fe789e7-a4f9-4063-b489-2b88e42197c4",
   "metadata": {},
   "outputs": [],
   "source": [
    "# remove myself from logfile\n",
    "logfile.drop(logfile[logfile['Vollständiger Name'] == 'Christian Decker'].index, inplace=True)\n",
    "logfile.dropna(axis=0, how='any', inplace=True)"
   ]
  },
  {
   "cell_type": "code",
   "execution_count": 6,
   "id": "2681106f-39c8-4909-a044-d5129a7b41f8",
   "metadata": {},
   "outputs": [],
   "source": [
    "# Build complete name\n",
    "grades['Vollständiger Name']= grades['vorname'] + ' ' + grades['nachname']"
   ]
  },
  {
   "cell_type": "markdown",
   "id": "744ed633-fd6e-48f1-aa4c-351bda6c0f86",
   "metadata": {},
   "source": [
    "### Create Name Codes"
   ]
  },
  {
   "cell_type": "code",
   "execution_count": 7,
   "id": "cbf725be-9545-47a1-9295-cf3c884891f6",
   "metadata": {},
   "outputs": [],
   "source": [
    "# extract all names from logfile\n",
    "logfile_names = set(list(logfile['Vollständiger Name']))\n",
    "logfile_names = logfile_names.union(set(list(logfile['Betroffene/r Nutzer/in'])))\n",
    "# extract all names from grades\n",
    "grades_names = set(list(grades['Vollständiger Name']))\n",
    "# combine both, shuffle and create dataframe\n",
    "name_list = list(logfile_names.union(grades_names))\n",
    "random.shuffle(name_list)\n",
    "all_names = pd.DataFrame(name_list, columns=['Vollständiger Name'])"
   ]
  },
  {
   "cell_type": "code",
   "execution_count": 8,
   "id": "2054ce57-66a9-4613-93e6-9485afe61965",
   "metadata": {},
   "outputs": [],
   "source": [
    "# replace name by index in 4digit hex\n",
    "all_names['name_code'] = all_names.apply(lambda row : f'{row.name:0>4X}' , axis = 1)"
   ]
  },
  {
   "cell_type": "markdown",
   "id": "2d519de1-6603-417d-98ca-174def099023",
   "metadata": {},
   "source": [
    "### Create IP Address Codes"
   ]
  },
  {
   "cell_type": "code",
   "execution_count": 9,
   "id": "dd87bf00-6e4d-4cd0-96b6-a848fdb8fdaa",
   "metadata": {},
   "outputs": [],
   "source": [
    "# extract all IPs from logfile\n",
    "ip_list = list(set(list(logfile['IP-Adresse'])))\n",
    "random.shuffle(ip_list)\n",
    "all_ips = pd.DataFrame(ip_list, columns=['IP-Adresse'])"
   ]
  },
  {
   "cell_type": "code",
   "execution_count": 10,
   "id": "5f59c7f3-4b27-4d79-9f98-63501f855109",
   "metadata": {},
   "outputs": [],
   "source": [
    "def ip_anonymizer(ip, idx):\n",
    "    if ip.startswith(HSRT_IP_start):\n",
    "        return HSRT_IP_start + '.0.0'\n",
    "    else:\n",
    "        return f'{idx:0>4X}'"
   ]
  },
  {
   "cell_type": "code",
   "execution_count": 11,
   "id": "93bef408-771d-40d0-824d-c17c19685190",
   "metadata": {},
   "outputs": [],
   "source": [
    "# replace name by index in 4digit hex\n",
    "all_ips['ip_code'] = all_ips.apply(lambda row : ip_anonymizer(str(row['IP-Adresse']), row.name) , axis = 1)"
   ]
  },
  {
   "cell_type": "markdown",
   "id": "084fc792-409c-4d83-8911-35045df83938",
   "metadata": {},
   "source": [
    "### Anonymize Names and IPs"
   ]
  },
  {
   "cell_type": "code",
   "execution_count": 12,
   "id": "9c17a94d-e6df-4196-b58d-01b57f99f74c",
   "metadata": {},
   "outputs": [],
   "source": [
    "# Lookup functions: provide name or IP and retrieve anonymized code\n",
    "def anon_name(name):\n",
    "    return all_names[all_names['Vollständiger Name'] == name]['name_code'].iloc[0]\n",
    "\n",
    "def anon_ip(ip):\n",
    "    code = all_ips[all_ips['IP-Adresse'] == ip]['ip_code']\n",
    "    return code.iloc[0]"
   ]
  },
  {
   "cell_type": "code",
   "execution_count": 13,
   "id": "3fa0cb88-48d6-46bc-8648-650789928f39",
   "metadata": {},
   "outputs": [],
   "source": [
    "# anonymize logfile\n",
    "logfile['Vollständiger Name'] = logfile.apply(lambda row : anon_name(row['Vollständiger Name']) , axis = 1)\n",
    "logfile['Betroffene/r Nutzer/in'] = logfile.apply(lambda row : anon_name(row['Betroffene/r Nutzer/in']) , axis = 1)\n",
    "logfile['IP-Adresse'] = logfile.apply(lambda row : anon_ip(str(row['IP-Adresse'])) , axis = 1)"
   ]
  },
  {
   "cell_type": "code",
   "execution_count": 14,
   "id": "f04c0508-ba7d-4eac-aa8e-1d11f298cbd2",
   "metadata": {},
   "outputs": [],
   "source": [
    "# anonymize grades\n",
    "grades['Vollständiger Name'] = grades.apply(lambda row : anon_name(row['Vollständiger Name']) , axis = 1)\n",
    "grades = grades[['Vollständiger Name', 'bewertung']]"
   ]
  },
  {
   "cell_type": "markdown",
   "id": "f66dbca3-ac87-4a6a-94ef-560e21959f83",
   "metadata": {},
   "source": [
    "### Store Anonymized Data as `.csv` File"
   ]
  },
  {
   "cell_type": "code",
   "execution_count": 15,
   "id": "76a05f86-e726-4f8d-94c9-cc7b69cccfe7",
   "metadata": {},
   "outputs": [],
   "source": [
    "logfile_output = os.path.join(output_filepath, subject, subject+'_log.csv')\n",
    "grades_output = os.path.join(output_filepath, subject, subject+'_grades.csv')"
   ]
  },
  {
   "cell_type": "code",
   "execution_count": 16,
   "id": "d930ef84-a815-4462-b13f-70cb06dfd4e7",
   "metadata": {},
   "outputs": [],
   "source": [
    "# create directory, if not exists\n",
    "data_reg_dir = os.path.dirname(logfile_output)\n",
    "!mkdir -p {data_reg_dir}"
   ]
  },
  {
   "cell_type": "code",
   "execution_count": 17,
   "id": "a7dce9dc-21e8-4209-82e8-f21948eeaa14",
   "metadata": {},
   "outputs": [],
   "source": [
    "logfile.to_csv(logfile_output, sep=',', index=False)\n",
    "grades.to_csv(grades_output, sep=',', index=False)"
   ]
  },
  {
   "cell_type": "markdown",
   "id": "cda51b9e-d6bd-4c58-8b75-dfba3cd124e8",
   "metadata": {},
   "source": [
    "### Store Lookup Tables for Names and IPs\n",
    "\n",
    "This is useful for later use, when we want to keep the lookup tables while getting updated data."
   ]
  },
  {
   "cell_type": "code",
   "execution_count": 18,
   "id": "c488b05a-58b9-4166-9d9c-25b18e78dd70",
   "metadata": {},
   "outputs": [],
   "source": [
    "lookup_names_output = os.path.join(input_filepath, subject+'_names.csv')\n",
    "lookup_ips_output = os.path.join(input_filepath, subject+'_ips.csv')"
   ]
  },
  {
   "cell_type": "code",
   "execution_count": 19,
   "id": "3cf3aea1-4a0b-46ff-9ed6-13abf4c8c77b",
   "metadata": {},
   "outputs": [],
   "source": [
    "all_names.to_csv(lookup_names_output, sep=',', index=False)\n",
    "all_ips.to_csv(lookup_ips_output, sep=',', index=False)"
   ]
  },
  {
   "cell_type": "code",
   "execution_count": null,
   "id": "518b5a69-1777-4e1e-b3c3-e2d76c291feb",
   "metadata": {},
   "outputs": [],
   "source": []
  }
 ],
 "metadata": {
  "kernelspec": {
   "display_name": "Python 3 (ipykernel)",
   "language": "python",
   "name": "python3"
  },
  "language_info": {
   "codemirror_mode": {
    "name": "ipython",
    "version": 3
   },
   "file_extension": ".py",
   "mimetype": "text/x-python",
   "name": "python",
   "nbconvert_exporter": "python",
   "pygments_lexer": "ipython3",
   "version": "3.10.11"
  }
 },
 "nbformat": 4,
 "nbformat_minor": 5
}
